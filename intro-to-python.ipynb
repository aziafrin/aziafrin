{
 "cells": [
  {
   "cell_type": "markdown",
   "id": "a60480d0",
   "metadata": {
    "_cell_guid": "b1076dfc-b9ad-4769-8c92-a6c4dae69d19",
    "_uuid": "8f2839f25d086af736a60e9eeb907d3b93b6e0e5",
    "papermill": {
     "duration": 0.007917,
     "end_time": "2022-11-18T01:15:07.403143",
     "exception": false,
     "start_time": "2022-11-18T01:15:07.395226",
     "status": "completed"
    },
    "tags": []
   },
   "source": [
    "# Introduction to Python Programming\n",
    "## Here we are going to cover some basics on python programming\n",
    "\n",
    "There will be some explanation with the code. This notebook will just go through the basic topics:\n",
    "\n",
    "1. Data types\n",
    "* Numbers\n",
    "* Arithmatic Operations\n",
    "* Strings\n",
    "* Variable Assignment\n",
    "* Printing\n",
    "* Lists\n",
    "* Dictionaries\n",
    "* Booleans\n",
    "* Tuples\n",
    "* Sets\n",
    "2. Comparison Operators\n",
    "3. if, elif, else Statements\n",
    "4. for Loops\n",
    "5. while Loops\n",
    "6. range()\n",
    "7. list comprehension\n",
    "8. functions\n",
    "9. lambda expressions\n",
    "10. map and filter\n",
    "11. methods\n",
    "Let's get started!"
   ]
  },
  {
   "cell_type": "markdown",
   "id": "623e94ad",
   "metadata": {
    "papermill": {
     "duration": 0.006604,
     "end_time": "2022-11-18T01:15:07.416949",
     "exception": false,
     "start_time": "2022-11-18T01:15:07.410345",
     "status": "completed"
    },
    "tags": []
   },
   "source": [
    "# 1.Data types\n",
    "We are gonna tal about how to deal with different datatypes in python."
   ]
  },
  {
   "cell_type": "markdown",
   "id": "941f8df7",
   "metadata": {
    "papermill": {
     "duration": 0.006152,
     "end_time": "2022-11-18T01:15:07.429611",
     "exception": false,
     "start_time": "2022-11-18T01:15:07.423459",
     "status": "completed"
    },
    "tags": []
   },
   "source": [
    "## Numbers\n",
    "Mostly we deal with integers and floating nmbers in python programming. Recall that integers are whole number whilw floating number has fraction."
   ]
  },
  {
   "cell_type": "markdown",
   "id": "12b7803f",
   "metadata": {
    "papermill": {
     "duration": 0.006053,
     "end_time": "2022-11-18T01:15:07.442415",
     "exception": false,
     "start_time": "2022-11-18T01:15:07.436362",
     "status": "completed"
    },
    "tags": []
   },
   "source": [
    "## Arithmatic Operations"
   ]
  },
  {
   "cell_type": "markdown",
   "id": "5b651a6e",
   "metadata": {
    "papermill": {
     "duration": 0.006073,
     "end_time": "2022-11-18T01:15:07.454892",
     "exception": false,
     "start_time": "2022-11-18T01:15:07.448819",
     "status": "completed"
    },
    "tags": []
   },
   "source": [
    "For addition and substraction, '+' and '-' signs are used here like as usual."
   ]
  },
  {
   "cell_type": "code",
   "execution_count": 1,
   "id": "70bc15a2",
   "metadata": {
    "execution": {
     "iopub.execute_input": "2022-11-18T01:15:07.469993Z",
     "iopub.status.busy": "2022-11-18T01:15:07.469407Z",
     "iopub.status.idle": "2022-11-18T01:15:07.484735Z",
     "shell.execute_reply": "2022-11-18T01:15:07.483519Z"
    },
    "papermill": {
     "duration": 0.026007,
     "end_time": "2022-11-18T01:15:07.487193",
     "exception": false,
     "start_time": "2022-11-18T01:15:07.461186",
     "status": "completed"
    },
    "tags": []
   },
   "outputs": [
    {
     "data": {
      "text/plain": [
       "227303"
      ]
     },
     "execution_count": 1,
     "metadata": {},
     "output_type": "execute_result"
    }
   ],
   "source": [
    "#addition\n",
    "3567+223736"
   ]
  },
  {
   "cell_type": "code",
   "execution_count": 2,
   "id": "18974acb",
   "metadata": {
    "execution": {
     "iopub.execute_input": "2022-11-18T01:15:07.502113Z",
     "iopub.status.busy": "2022-11-18T01:15:07.501746Z",
     "iopub.status.idle": "2022-11-18T01:15:07.507734Z",
     "shell.execute_reply": "2022-11-18T01:15:07.506633Z"
    },
    "papermill": {
     "duration": 0.015966,
     "end_time": "2022-11-18T01:15:07.509852",
     "exception": false,
     "start_time": "2022-11-18T01:15:07.493886",
     "status": "completed"
    },
    "tags": []
   },
   "outputs": [
    {
     "data": {
      "text/plain": [
       "5222"
      ]
     },
     "execution_count": 2,
     "metadata": {},
     "output_type": "execute_result"
    }
   ],
   "source": [
    "#substraction\n",
    "8765-3543"
   ]
  },
  {
   "cell_type": "markdown",
   "id": "c30270e2",
   "metadata": {
    "papermill": {
     "duration": 0.006345,
     "end_time": "2022-11-18T01:15:07.524669",
     "exception": false,
     "start_time": "2022-11-18T01:15:07.518324",
     "status": "completed"
    },
    "tags": []
   },
   "source": [
    "For multiplication **asteric (*)** sign is used"
   ]
  },
  {
   "cell_type": "code",
   "execution_count": 3,
   "id": "a0db982d",
   "metadata": {
    "execution": {
     "iopub.execute_input": "2022-11-18T01:15:07.543161Z",
     "iopub.status.busy": "2022-11-18T01:15:07.542176Z",
     "iopub.status.idle": "2022-11-18T01:15:07.548512Z",
     "shell.execute_reply": "2022-11-18T01:15:07.547603Z"
    },
    "jupyter": {
     "source_hidden": true
    },
    "papermill": {
     "duration": 0.017888,
     "end_time": "2022-11-18T01:15:07.550905",
     "exception": false,
     "start_time": "2022-11-18T01:15:07.533017",
     "status": "completed"
    },
    "tags": []
   },
   "outputs": [
    {
     "data": {
      "text/plain": [
       "80730"
      ]
     },
     "execution_count": 3,
     "metadata": {},
     "output_type": "execute_result"
    }
   ],
   "source": [
    "#multiplication\n",
    "345*234"
   ]
  },
  {
   "cell_type": "markdown",
   "id": "491314a7",
   "metadata": {
    "papermill": {
     "duration": 0.007111,
     "end_time": "2022-11-18T01:15:07.564932",
     "exception": false,
     "start_time": "2022-11-18T01:15:07.557821",
     "status": "completed"
    },
    "tags": []
   },
   "source": [
    "For division **forward slash(/)** is uesd in python."
   ]
  },
  {
   "cell_type": "code",
   "execution_count": 4,
   "id": "c5f3b99c",
   "metadata": {
    "execution": {
     "iopub.execute_input": "2022-11-18T01:15:07.581379Z",
     "iopub.status.busy": "2022-11-18T01:15:07.580687Z",
     "iopub.status.idle": "2022-11-18T01:15:07.587719Z",
     "shell.execute_reply": "2022-11-18T01:15:07.586649Z"
    },
    "papermill": {
     "duration": 0.017884,
     "end_time": "2022-11-18T01:15:07.589919",
     "exception": false,
     "start_time": "2022-11-18T01:15:07.572035",
     "status": "completed"
    },
    "tags": []
   },
   "outputs": [
    {
     "data": {
      "text/plain": [
       "1278.0"
      ]
     },
     "execution_count": 4,
     "metadata": {},
     "output_type": "execute_result"
    }
   ],
   "source": [
    "#division\n",
    "2556/2"
   ]
  },
  {
   "cell_type": "markdown",
   "id": "f5653d6e",
   "metadata": {
    "papermill": {
     "duration": 0.00657,
     "end_time": "2022-11-18T01:15:07.603368",
     "exception": false,
     "start_time": "2022-11-18T01:15:07.596798",
     "status": "completed"
    },
    "tags": []
   },
   "source": [
    "For Exponentiation we use double asteric (**)"
   ]
  },
  {
   "cell_type": "code",
   "execution_count": 5,
   "id": "da911347",
   "metadata": {
    "execution": {
     "iopub.execute_input": "2022-11-18T01:15:07.619420Z",
     "iopub.status.busy": "2022-11-18T01:15:07.618625Z",
     "iopub.status.idle": "2022-11-18T01:15:07.625970Z",
     "shell.execute_reply": "2022-11-18T01:15:07.624958Z"
    },
    "papermill": {
     "duration": 0.017934,
     "end_time": "2022-11-18T01:15:07.628206",
     "exception": false,
     "start_time": "2022-11-18T01:15:07.610272",
     "status": "completed"
    },
    "tags": []
   },
   "outputs": [
    {
     "data": {
      "text/plain": [
       "8"
      ]
     },
     "execution_count": 5,
     "metadata": {},
     "output_type": "execute_result"
    }
   ],
   "source": [
    "2**3"
   ]
  },
  {
   "cell_type": "markdown",
   "id": "d992b79b",
   "metadata": {
    "papermill": {
     "duration": 0.006661,
     "end_time": "2022-11-18T01:15:07.641850",
     "exception": false,
     "start_time": "2022-11-18T01:15:07.635189",
     "status": "completed"
    },
    "tags": []
   },
   "source": [
    "For Modulus we use % sign"
   ]
  },
  {
   "cell_type": "code",
   "execution_count": 6,
   "id": "e2725641",
   "metadata": {
    "execution": {
     "iopub.execute_input": "2022-11-18T01:15:07.658910Z",
     "iopub.status.busy": "2022-11-18T01:15:07.658117Z",
     "iopub.status.idle": "2022-11-18T01:15:07.664865Z",
     "shell.execute_reply": "2022-11-18T01:15:07.663978Z"
    },
    "papermill": {
     "duration": 0.017944,
     "end_time": "2022-11-18T01:15:07.667040",
     "exception": false,
     "start_time": "2022-11-18T01:15:07.649096",
     "status": "completed"
    },
    "tags": []
   },
   "outputs": [
    {
     "data": {
      "text/plain": [
       "1"
      ]
     },
     "execution_count": 6,
     "metadata": {},
     "output_type": "execute_result"
    }
   ],
   "source": [
    "22%3\n"
   ]
  },
  {
   "cell_type": "markdown",
   "id": "0b8bb785",
   "metadata": {
    "papermill": {
     "duration": 0.007045,
     "end_time": "2022-11-18T01:15:07.681125",
     "exception": false,
     "start_time": "2022-11-18T01:15:07.674080",
     "status": "completed"
    },
    "tags": []
   },
   "source": [
    "For floor division use use double forward slash"
   ]
  },
  {
   "cell_type": "code",
   "execution_count": 7,
   "id": "b39ec1bd",
   "metadata": {
    "execution": {
     "iopub.execute_input": "2022-11-18T01:15:07.697873Z",
     "iopub.status.busy": "2022-11-18T01:15:07.697106Z",
     "iopub.status.idle": "2022-11-18T01:15:07.703725Z",
     "shell.execute_reply": "2022-11-18T01:15:07.702866Z"
    },
    "papermill": {
     "duration": 0.017183,
     "end_time": "2022-11-18T01:15:07.705882",
     "exception": false,
     "start_time": "2022-11-18T01:15:07.688699",
     "status": "completed"
    },
    "tags": []
   },
   "outputs": [
    {
     "data": {
      "text/plain": [
       "2"
      ]
     },
     "execution_count": 7,
     "metadata": {},
     "output_type": "execute_result"
    }
   ],
   "source": [
    "11//5"
   ]
  },
  {
   "cell_type": "code",
   "execution_count": 8,
   "id": "81f7ee39",
   "metadata": {
    "execution": {
     "iopub.execute_input": "2022-11-18T01:15:07.723235Z",
     "iopub.status.busy": "2022-11-18T01:15:07.722467Z",
     "iopub.status.idle": "2022-11-18T01:15:07.729333Z",
     "shell.execute_reply": "2022-11-18T01:15:07.728516Z"
    },
    "papermill": {
     "duration": 0.017585,
     "end_time": "2022-11-18T01:15:07.731524",
     "exception": false,
     "start_time": "2022-11-18T01:15:07.713939",
     "status": "completed"
    },
    "tags": []
   },
   "outputs": [
    {
     "data": {
      "text/plain": [
       "10.0"
      ]
     },
     "execution_count": 8,
     "metadata": {},
     "output_type": "execute_result"
    }
   ],
   "source": [
    "#lets try a calculation\n",
    "(24/8)+(3*4)-(10/2)"
   ]
  },
  {
   "cell_type": "markdown",
   "id": "3ff174b3",
   "metadata": {
    "papermill": {
     "duration": 0.006856,
     "end_time": "2022-11-18T01:15:07.745482",
     "exception": false,
     "start_time": "2022-11-18T01:15:07.738626",
     "status": "completed"
    },
    "tags": []
   },
   "source": [
    "## Strings\n",
    "Strings are expressed in both signle quotes"
   ]
  },
  {
   "cell_type": "code",
   "execution_count": 9,
   "id": "9f7254f9",
   "metadata": {
    "execution": {
     "iopub.execute_input": "2022-11-18T01:15:07.761951Z",
     "iopub.status.busy": "2022-11-18T01:15:07.761306Z",
     "iopub.status.idle": "2022-11-18T01:15:07.767716Z",
     "shell.execute_reply": "2022-11-18T01:15:07.766728Z"
    },
    "papermill": {
     "duration": 0.017334,
     "end_time": "2022-11-18T01:15:07.769894",
     "exception": false,
     "start_time": "2022-11-18T01:15:07.752560",
     "status": "completed"
    },
    "tags": []
   },
   "outputs": [
    {
     "data": {
      "text/plain": [
       "'I am learning something new!'"
      ]
     },
     "execution_count": 9,
     "metadata": {},
     "output_type": "execute_result"
    }
   ],
   "source": [
    "'I am learning something new!'"
   ]
  },
  {
   "cell_type": "code",
   "execution_count": 10,
   "id": "89c8998f",
   "metadata": {
    "execution": {
     "iopub.execute_input": "2022-11-18T01:15:07.786424Z",
     "iopub.status.busy": "2022-11-18T01:15:07.786035Z",
     "iopub.status.idle": "2022-11-18T01:15:07.792651Z",
     "shell.execute_reply": "2022-11-18T01:15:07.791531Z"
    },
    "papermill": {
     "duration": 0.017506,
     "end_time": "2022-11-18T01:15:07.794804",
     "exception": false,
     "start_time": "2022-11-18T01:15:07.777298",
     "status": "completed"
    },
    "tags": []
   },
   "outputs": [
    {
     "data": {
      "text/plain": [
       "'I am really excited!'"
      ]
     },
     "execution_count": 10,
     "metadata": {},
     "output_type": "execute_result"
    }
   ],
   "source": [
    "\"I am really excited!\""
   ]
  },
  {
   "cell_type": "markdown",
   "id": "85096b86",
   "metadata": {
    "papermill": {
     "duration": 0.007183,
     "end_time": "2022-11-18T01:15:07.809408",
     "exception": false,
     "start_time": "2022-11-18T01:15:07.802225",
     "status": "completed"
    },
    "tags": []
   },
   "source": [
    "## Variable Assignment\n",
    "We use equal sign to assign things is python"
   ]
  },
  {
   "cell_type": "code",
   "execution_count": 11,
   "id": "a05dea06",
   "metadata": {
    "execution": {
     "iopub.execute_input": "2022-11-18T01:15:07.826382Z",
     "iopub.status.busy": "2022-11-18T01:15:07.825763Z",
     "iopub.status.idle": "2022-11-18T01:15:07.830353Z",
     "shell.execute_reply": "2022-11-18T01:15:07.829653Z"
    },
    "papermill": {
     "duration": 0.015562,
     "end_time": "2022-11-18T01:15:07.832413",
     "exception": false,
     "start_time": "2022-11-18T01:15:07.816851",
     "status": "completed"
    },
    "tags": []
   },
   "outputs": [],
   "source": [
    "a= 123\n",
    "x=13\n",
    "c='Cat'"
   ]
  },
  {
   "cell_type": "code",
   "execution_count": 12,
   "id": "6ef49af5",
   "metadata": {
    "execution": {
     "iopub.execute_input": "2022-11-18T01:15:07.849317Z",
     "iopub.status.busy": "2022-11-18T01:15:07.848706Z",
     "iopub.status.idle": "2022-11-18T01:15:07.853502Z",
     "shell.execute_reply": "2022-11-18T01:15:07.852690Z"
    },
    "papermill": {
     "duration": 0.015978,
     "end_time": "2022-11-18T01:15:07.855811",
     "exception": false,
     "start_time": "2022-11-18T01:15:07.839833",
     "status": "completed"
    },
    "tags": []
   },
   "outputs": [],
   "source": [
    "#there are different assignment operators in python\n",
    "#for one increment in x values\n",
    "x+=1 \n",
    "x=x+1"
   ]
  },
  {
   "cell_type": "markdown",
   "id": "2b021e40",
   "metadata": {
    "papermill": {
     "duration": 0.007234,
     "end_time": "2022-11-18T01:15:07.871265",
     "exception": false,
     "start_time": "2022-11-18T01:15:07.864031",
     "status": "completed"
    },
    "tags": []
   },
   "source": [
    "## Printing\n",
    "For printing some the we use print or we just put the variable name"
   ]
  },
  {
   "cell_type": "code",
   "execution_count": 13,
   "id": "8a252583",
   "metadata": {
    "execution": {
     "iopub.execute_input": "2022-11-18T01:15:07.888679Z",
     "iopub.status.busy": "2022-11-18T01:15:07.888054Z",
     "iopub.status.idle": "2022-11-18T01:15:07.896690Z",
     "shell.execute_reply": "2022-11-18T01:15:07.894736Z"
    },
    "papermill": {
     "duration": 0.020029,
     "end_time": "2022-11-18T01:15:07.899183",
     "exception": false,
     "start_time": "2022-11-18T01:15:07.879154",
     "status": "completed"
    },
    "tags": []
   },
   "outputs": [
    {
     "name": "stdout",
     "output_type": "stream",
     "text": [
      "123\n"
     ]
    },
    {
     "data": {
      "text/plain": [
       "123"
      ]
     },
     "execution_count": 13,
     "metadata": {},
     "output_type": "execute_result"
    }
   ],
   "source": [
    "print(a)\n",
    "a"
   ]
  },
  {
   "cell_type": "code",
   "execution_count": 14,
   "id": "4df335c3",
   "metadata": {
    "execution": {
     "iopub.execute_input": "2022-11-18T01:15:07.916787Z",
     "iopub.status.busy": "2022-11-18T01:15:07.915966Z",
     "iopub.status.idle": "2022-11-18T01:15:07.921777Z",
     "shell.execute_reply": "2022-11-18T01:15:07.920965Z"
    },
    "papermill": {
     "duration": 0.016975,
     "end_time": "2022-11-18T01:15:07.923871",
     "exception": false,
     "start_time": "2022-11-18T01:15:07.906896",
     "status": "completed"
    },
    "tags": []
   },
   "outputs": [
    {
     "data": {
      "text/plain": [
       "'Cat'"
      ]
     },
     "execution_count": 14,
     "metadata": {},
     "output_type": "execute_result"
    }
   ],
   "source": [
    "c"
   ]
  },
  {
   "cell_type": "code",
   "execution_count": 15,
   "id": "081b9b91",
   "metadata": {
    "execution": {
     "iopub.execute_input": "2022-11-18T01:15:07.941532Z",
     "iopub.status.busy": "2022-11-18T01:15:07.940766Z",
     "iopub.status.idle": "2022-11-18T01:15:07.946301Z",
     "shell.execute_reply": "2022-11-18T01:15:07.945046Z"
    },
    "papermill": {
     "duration": 0.016996,
     "end_time": "2022-11-18T01:15:07.948558",
     "exception": false,
     "start_time": "2022-11-18T01:15:07.931562",
     "status": "completed"
    },
    "tags": []
   },
   "outputs": [
    {
     "name": "stdout",
     "output_type": "stream",
     "text": [
      "Cat\n"
     ]
    }
   ],
   "source": [
    "print(c)"
   ]
  },
  {
   "cell_type": "code",
   "execution_count": 16,
   "id": "025c090f",
   "metadata": {
    "execution": {
     "iopub.execute_input": "2022-11-18T01:15:07.965936Z",
     "iopub.status.busy": "2022-11-18T01:15:07.965498Z",
     "iopub.status.idle": "2022-11-18T01:15:07.971121Z",
     "shell.execute_reply": "2022-11-18T01:15:07.969971Z"
    },
    "papermill": {
     "duration": 0.017285,
     "end_time": "2022-11-18T01:15:07.973695",
     "exception": false,
     "start_time": "2022-11-18T01:15:07.956410",
     "status": "completed"
    },
    "tags": []
   },
   "outputs": [
    {
     "name": "stdout",
     "output_type": "stream",
     "text": [
      "Let's print something\n"
     ]
    }
   ],
   "source": [
    "print(\"Let's print something\")"
   ]
  },
  {
   "cell_type": "code",
   "execution_count": null,
   "id": "921f9b06",
   "metadata": {
    "papermill": {
     "duration": 0.007547,
     "end_time": "2022-11-18T01:15:07.989179",
     "exception": false,
     "start_time": "2022-11-18T01:15:07.981632",
     "status": "completed"
    },
    "tags": []
   },
   "outputs": [],
   "source": []
  }
 ],
 "metadata": {
  "kernelspec": {
   "display_name": "Python 3",
   "language": "python",
   "name": "python3"
  },
  "language_info": {
   "codemirror_mode": {
    "name": "ipython",
    "version": 3
   },
   "file_extension": ".py",
   "mimetype": "text/x-python",
   "name": "python",
   "nbconvert_exporter": "python",
   "pygments_lexer": "ipython3",
   "version": "3.7.12"
  },
  "papermill": {
   "default_parameters": {},
   "duration": 10.133642,
   "end_time": "2022-11-18T01:15:08.617951",
   "environment_variables": {},
   "exception": null,
   "input_path": "__notebook__.ipynb",
   "output_path": "__notebook__.ipynb",
   "parameters": {},
   "start_time": "2022-11-18T01:14:58.484309",
   "version": "2.3.4"
  }
 },
 "nbformat": 4,
 "nbformat_minor": 5
}
