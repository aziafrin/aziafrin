{
 "cells": [
  {
   "cell_type": "markdown",
   "id": "ee0be1fe",
   "metadata": {
    "_cell_guid": "b1076dfc-b9ad-4769-8c92-a6c4dae69d19",
    "_uuid": "8f2839f25d086af736a60e9eeb907d3b93b6e0e5",
    "papermill": {
     "duration": 0.00817,
     "end_time": "2022-11-18T01:12:45.170318",
     "exception": false,
     "start_time": "2022-11-18T01:12:45.162148",
     "status": "completed"
    },
    "tags": []
   },
   "source": [
    "# **Here we are going to cover some basics on python programming**\n",
    "\n",
    "There will be some explanation with the code. This notebook will just go through the basic topics:\n",
    "\n",
    "1. Data types\n",
    "* Numbers\n",
    "* Arithmatic Operations\n",
    "* Strings\n",
    "* Variable Assignment\n",
    "* Printing\n",
    "* Lists\n",
    "* Dictionaries\n",
    "* Booleans\n",
    "* Tuples\n",
    "* Sets\n",
    "2. Comparison Operators\n",
    "3. if, elif, else Statements\n",
    "4. for Loops\n",
    "5. while Loops\n",
    "6. range()\n",
    "7. list comprehension\n",
    "8. functions\n",
    "9. lambda expressions\n",
    "10. map and filter\n",
    "11. methods\n",
    "Let's get started!"
   ]
  },
  {
   "cell_type": "markdown",
   "id": "77abd3a5",
   "metadata": {
    "papermill": {
     "duration": 0.006141,
     "end_time": "2022-11-18T01:12:45.183090",
     "exception": false,
     "start_time": "2022-11-18T01:12:45.176949",
     "status": "completed"
    },
    "tags": []
   },
   "source": [
    "# 1.Data types\n",
    "We are gonna tal about how to deal with different datatypes in python."
   ]
  },
  {
   "cell_type": "markdown",
   "id": "7f2892dc",
   "metadata": {
    "papermill": {
     "duration": 0.005981,
     "end_time": "2022-11-18T01:12:45.195453",
     "exception": false,
     "start_time": "2022-11-18T01:12:45.189472",
     "status": "completed"
    },
    "tags": []
   },
   "source": [
    "## Numbers\n",
    "Mostly we deal with integers and floating nmbers in python programming. Recall that integers are whole number whilw floating number has fraction."
   ]
  },
  {
   "cell_type": "markdown",
   "id": "451cfac7",
   "metadata": {
    "papermill": {
     "duration": 0.005934,
     "end_time": "2022-11-18T01:12:45.207728",
     "exception": false,
     "start_time": "2022-11-18T01:12:45.201794",
     "status": "completed"
    },
    "tags": []
   },
   "source": [
    "## Arithmatic Operations"
   ]
  },
  {
   "cell_type": "markdown",
   "id": "91d1452b",
   "metadata": {
    "papermill": {
     "duration": 0.006048,
     "end_time": "2022-11-18T01:12:45.219973",
     "exception": false,
     "start_time": "2022-11-18T01:12:45.213925",
     "status": "completed"
    },
    "tags": []
   },
   "source": [
    "For addition and substraction, '+' and '-' signs are used here like as usual."
   ]
  },
  {
   "cell_type": "code",
   "execution_count": 1,
   "id": "de0dc368",
   "metadata": {
    "execution": {
     "iopub.execute_input": "2022-11-18T01:12:45.234491Z",
     "iopub.status.busy": "2022-11-18T01:12:45.233977Z",
     "iopub.status.idle": "2022-11-18T01:12:45.248114Z",
     "shell.execute_reply": "2022-11-18T01:12:45.247081Z"
    },
    "papermill": {
     "duration": 0.024444,
     "end_time": "2022-11-18T01:12:45.250540",
     "exception": false,
     "start_time": "2022-11-18T01:12:45.226096",
     "status": "completed"
    },
    "tags": []
   },
   "outputs": [
    {
     "data": {
      "text/plain": [
       "227303"
      ]
     },
     "execution_count": 1,
     "metadata": {},
     "output_type": "execute_result"
    }
   ],
   "source": [
    "#addition\n",
    "3567+223736"
   ]
  },
  {
   "cell_type": "code",
   "execution_count": 2,
   "id": "c8e90bce",
   "metadata": {
    "execution": {
     "iopub.execute_input": "2022-11-18T01:12:45.265902Z",
     "iopub.status.busy": "2022-11-18T01:12:45.265213Z",
     "iopub.status.idle": "2022-11-18T01:12:45.271653Z",
     "shell.execute_reply": "2022-11-18T01:12:45.270618Z"
    },
    "papermill": {
     "duration": 0.016464,
     "end_time": "2022-11-18T01:12:45.273699",
     "exception": false,
     "start_time": "2022-11-18T01:12:45.257235",
     "status": "completed"
    },
    "tags": []
   },
   "outputs": [
    {
     "data": {
      "text/plain": [
       "5222"
      ]
     },
     "execution_count": 2,
     "metadata": {},
     "output_type": "execute_result"
    }
   ],
   "source": [
    "#substraction\n",
    "8765-3543"
   ]
  },
  {
   "cell_type": "markdown",
   "id": "c6f7a30b",
   "metadata": {
    "papermill": {
     "duration": 0.006222,
     "end_time": "2022-11-18T01:12:45.287973",
     "exception": false,
     "start_time": "2022-11-18T01:12:45.281751",
     "status": "completed"
    },
    "tags": []
   },
   "source": [
    "For multiplication **asteric (*)** sign is used"
   ]
  },
  {
   "cell_type": "code",
   "execution_count": 3,
   "id": "d290a0a6",
   "metadata": {
    "execution": {
     "iopub.execute_input": "2022-11-18T01:12:45.302969Z",
     "iopub.status.busy": "2022-11-18T01:12:45.302181Z",
     "iopub.status.idle": "2022-11-18T01:12:45.308519Z",
     "shell.execute_reply": "2022-11-18T01:12:45.307531Z"
    },
    "jupyter": {
     "source_hidden": true
    },
    "papermill": {
     "duration": 0.016104,
     "end_time": "2022-11-18T01:12:45.310659",
     "exception": false,
     "start_time": "2022-11-18T01:12:45.294555",
     "status": "completed"
    },
    "tags": []
   },
   "outputs": [
    {
     "data": {
      "text/plain": [
       "80730"
      ]
     },
     "execution_count": 3,
     "metadata": {},
     "output_type": "execute_result"
    }
   ],
   "source": [
    "#multiplication\n",
    "345*234"
   ]
  },
  {
   "cell_type": "markdown",
   "id": "1e712ed9",
   "metadata": {
    "papermill": {
     "duration": 0.006517,
     "end_time": "2022-11-18T01:12:45.324746",
     "exception": false,
     "start_time": "2022-11-18T01:12:45.318229",
     "status": "completed"
    },
    "tags": []
   },
   "source": [
    "For division **forward slash(/)** is uesd in python."
   ]
  },
  {
   "cell_type": "code",
   "execution_count": 4,
   "id": "cd2a2eb7",
   "metadata": {
    "execution": {
     "iopub.execute_input": "2022-11-18T01:12:45.340042Z",
     "iopub.status.busy": "2022-11-18T01:12:45.339289Z",
     "iopub.status.idle": "2022-11-18T01:12:45.345421Z",
     "shell.execute_reply": "2022-11-18T01:12:45.344447Z"
    },
    "papermill": {
     "duration": 0.016368,
     "end_time": "2022-11-18T01:12:45.347616",
     "exception": false,
     "start_time": "2022-11-18T01:12:45.331248",
     "status": "completed"
    },
    "tags": []
   },
   "outputs": [
    {
     "data": {
      "text/plain": [
       "1278.0"
      ]
     },
     "execution_count": 4,
     "metadata": {},
     "output_type": "execute_result"
    }
   ],
   "source": [
    "#division\n",
    "2556/2"
   ]
  },
  {
   "cell_type": "markdown",
   "id": "8480360e",
   "metadata": {
    "papermill": {
     "duration": 0.006463,
     "end_time": "2022-11-18T01:12:45.360853",
     "exception": false,
     "start_time": "2022-11-18T01:12:45.354390",
     "status": "completed"
    },
    "tags": []
   },
   "source": [
    "For Exponentiation we use double asteric (**)"
   ]
  },
  {
   "cell_type": "code",
   "execution_count": 5,
   "id": "ea163565",
   "metadata": {
    "execution": {
     "iopub.execute_input": "2022-11-18T01:12:45.375850Z",
     "iopub.status.busy": "2022-11-18T01:12:45.375422Z",
     "iopub.status.idle": "2022-11-18T01:12:45.382080Z",
     "shell.execute_reply": "2022-11-18T01:12:45.381071Z"
    },
    "papermill": {
     "duration": 0.016717,
     "end_time": "2022-11-18T01:12:45.384210",
     "exception": false,
     "start_time": "2022-11-18T01:12:45.367493",
     "status": "completed"
    },
    "tags": []
   },
   "outputs": [
    {
     "data": {
      "text/plain": [
       "8"
      ]
     },
     "execution_count": 5,
     "metadata": {},
     "output_type": "execute_result"
    }
   ],
   "source": [
    "2**3"
   ]
  },
  {
   "cell_type": "markdown",
   "id": "5c1026ec",
   "metadata": {
    "papermill": {
     "duration": 0.006723,
     "end_time": "2022-11-18T01:12:45.398225",
     "exception": false,
     "start_time": "2022-11-18T01:12:45.391502",
     "status": "completed"
    },
    "tags": []
   },
   "source": [
    "For Modulus we use % sign"
   ]
  },
  {
   "cell_type": "code",
   "execution_count": 6,
   "id": "6d1f2593",
   "metadata": {
    "execution": {
     "iopub.execute_input": "2022-11-18T01:12:45.414321Z",
     "iopub.status.busy": "2022-11-18T01:12:45.413341Z",
     "iopub.status.idle": "2022-11-18T01:12:45.419144Z",
     "shell.execute_reply": "2022-11-18T01:12:45.418404Z"
    },
    "papermill": {
     "duration": 0.016003,
     "end_time": "2022-11-18T01:12:45.421128",
     "exception": false,
     "start_time": "2022-11-18T01:12:45.405125",
     "status": "completed"
    },
    "tags": []
   },
   "outputs": [
    {
     "data": {
      "text/plain": [
       "1"
      ]
     },
     "execution_count": 6,
     "metadata": {},
     "output_type": "execute_result"
    }
   ],
   "source": [
    "22%3\n"
   ]
  },
  {
   "cell_type": "markdown",
   "id": "c5766971",
   "metadata": {
    "papermill": {
     "duration": 0.006736,
     "end_time": "2022-11-18T01:12:45.434806",
     "exception": false,
     "start_time": "2022-11-18T01:12:45.428070",
     "status": "completed"
    },
    "tags": []
   },
   "source": [
    "For floor division use use double forward slash"
   ]
  },
  {
   "cell_type": "code",
   "execution_count": 7,
   "id": "f444f027",
   "metadata": {
    "execution": {
     "iopub.execute_input": "2022-11-18T01:12:45.450498Z",
     "iopub.status.busy": "2022-11-18T01:12:45.449823Z",
     "iopub.status.idle": "2022-11-18T01:12:45.454994Z",
     "shell.execute_reply": "2022-11-18T01:12:45.454320Z"
    },
    "papermill": {
     "duration": 0.015331,
     "end_time": "2022-11-18T01:12:45.456952",
     "exception": false,
     "start_time": "2022-11-18T01:12:45.441621",
     "status": "completed"
    },
    "tags": []
   },
   "outputs": [
    {
     "data": {
      "text/plain": [
       "2"
      ]
     },
     "execution_count": 7,
     "metadata": {},
     "output_type": "execute_result"
    }
   ],
   "source": [
    "11//5"
   ]
  },
  {
   "cell_type": "code",
   "execution_count": 8,
   "id": "d214153e",
   "metadata": {
    "execution": {
     "iopub.execute_input": "2022-11-18T01:12:45.472857Z",
     "iopub.status.busy": "2022-11-18T01:12:45.472201Z",
     "iopub.status.idle": "2022-11-18T01:12:45.478073Z",
     "shell.execute_reply": "2022-11-18T01:12:45.477066Z"
    },
    "papermill": {
     "duration": 0.016379,
     "end_time": "2022-11-18T01:12:45.480311",
     "exception": false,
     "start_time": "2022-11-18T01:12:45.463932",
     "status": "completed"
    },
    "tags": []
   },
   "outputs": [
    {
     "data": {
      "text/plain": [
       "10.0"
      ]
     },
     "execution_count": 8,
     "metadata": {},
     "output_type": "execute_result"
    }
   ],
   "source": [
    "#lets try a calculation\n",
    "(24/8)+(3*4)-(10/2)"
   ]
  },
  {
   "cell_type": "markdown",
   "id": "1998c67d",
   "metadata": {
    "papermill": {
     "duration": 0.006954,
     "end_time": "2022-11-18T01:12:45.494382",
     "exception": false,
     "start_time": "2022-11-18T01:12:45.487428",
     "status": "completed"
    },
    "tags": []
   },
   "source": [
    "## Strings\n",
    "Strings are expressed in both signle quotes"
   ]
  },
  {
   "cell_type": "code",
   "execution_count": 9,
   "id": "8a15baeb",
   "metadata": {
    "execution": {
     "iopub.execute_input": "2022-11-18T01:12:45.510317Z",
     "iopub.status.busy": "2022-11-18T01:12:45.509895Z",
     "iopub.status.idle": "2022-11-18T01:12:45.515998Z",
     "shell.execute_reply": "2022-11-18T01:12:45.515233Z"
    },
    "papermill": {
     "duration": 0.01647,
     "end_time": "2022-11-18T01:12:45.517941",
     "exception": false,
     "start_time": "2022-11-18T01:12:45.501471",
     "status": "completed"
    },
    "tags": []
   },
   "outputs": [
    {
     "data": {
      "text/plain": [
       "'I am learning something new!'"
      ]
     },
     "execution_count": 9,
     "metadata": {},
     "output_type": "execute_result"
    }
   ],
   "source": [
    "'I am learning something new!'"
   ]
  },
  {
   "cell_type": "code",
   "execution_count": 10,
   "id": "eb0c9827",
   "metadata": {
    "execution": {
     "iopub.execute_input": "2022-11-18T01:12:45.534486Z",
     "iopub.status.busy": "2022-11-18T01:12:45.533832Z",
     "iopub.status.idle": "2022-11-18T01:12:45.538982Z",
     "shell.execute_reply": "2022-11-18T01:12:45.538316Z"
    },
    "papermill": {
     "duration": 0.015625,
     "end_time": "2022-11-18T01:12:45.540882",
     "exception": false,
     "start_time": "2022-11-18T01:12:45.525257",
     "status": "completed"
    },
    "tags": []
   },
   "outputs": [
    {
     "data": {
      "text/plain": [
       "'I am really excited!'"
      ]
     },
     "execution_count": 10,
     "metadata": {},
     "output_type": "execute_result"
    }
   ],
   "source": [
    "\"I am really excited!\""
   ]
  },
  {
   "cell_type": "markdown",
   "id": "8a6aac42",
   "metadata": {
    "papermill": {
     "duration": 0.007149,
     "end_time": "2022-11-18T01:12:45.555355",
     "exception": false,
     "start_time": "2022-11-18T01:12:45.548206",
     "status": "completed"
    },
    "tags": []
   },
   "source": [
    "## Variable Assignment\n",
    "We use equal sign to assign things is python"
   ]
  },
  {
   "cell_type": "code",
   "execution_count": 11,
   "id": "142a11b2",
   "metadata": {
    "execution": {
     "iopub.execute_input": "2022-11-18T01:12:45.571986Z",
     "iopub.status.busy": "2022-11-18T01:12:45.571349Z",
     "iopub.status.idle": "2022-11-18T01:12:45.575435Z",
     "shell.execute_reply": "2022-11-18T01:12:45.574622Z"
    },
    "papermill": {
     "duration": 0.015032,
     "end_time": "2022-11-18T01:12:45.577629",
     "exception": false,
     "start_time": "2022-11-18T01:12:45.562597",
     "status": "completed"
    },
    "tags": []
   },
   "outputs": [],
   "source": [
    "a= 123\n",
    "x=13\n",
    "c='Cat'"
   ]
  },
  {
   "cell_type": "code",
   "execution_count": 12,
   "id": "f7ee8f94",
   "metadata": {
    "execution": {
     "iopub.execute_input": "2022-11-18T01:12:45.598579Z",
     "iopub.status.busy": "2022-11-18T01:12:45.597867Z",
     "iopub.status.idle": "2022-11-18T01:12:45.602211Z",
     "shell.execute_reply": "2022-11-18T01:12:45.601485Z"
    },
    "papermill": {
     "duration": 0.015753,
     "end_time": "2022-11-18T01:12:45.604157",
     "exception": false,
     "start_time": "2022-11-18T01:12:45.588404",
     "status": "completed"
    },
    "tags": []
   },
   "outputs": [],
   "source": [
    "#there are different assignment operators in python\n",
    "#for one increment in x values\n",
    "x+=1 \n",
    "x=x+1"
   ]
  },
  {
   "cell_type": "markdown",
   "id": "bfe692ec",
   "metadata": {
    "papermill": {
     "duration": 0.007295,
     "end_time": "2022-11-18T01:12:45.618880",
     "exception": false,
     "start_time": "2022-11-18T01:12:45.611585",
     "status": "completed"
    },
    "tags": []
   },
   "source": [
    "## Printing\n",
    "For printing some the we use print or we just put the variable name"
   ]
  },
  {
   "cell_type": "code",
   "execution_count": 13,
   "id": "43bbdc6c",
   "metadata": {
    "execution": {
     "iopub.execute_input": "2022-11-18T01:12:45.636088Z",
     "iopub.status.busy": "2022-11-18T01:12:45.635363Z",
     "iopub.status.idle": "2022-11-18T01:12:45.642309Z",
     "shell.execute_reply": "2022-11-18T01:12:45.641293Z"
    },
    "papermill": {
     "duration": 0.018079,
     "end_time": "2022-11-18T01:12:45.644598",
     "exception": false,
     "start_time": "2022-11-18T01:12:45.626519",
     "status": "completed"
    },
    "tags": []
   },
   "outputs": [
    {
     "name": "stdout",
     "output_type": "stream",
     "text": [
      "123\n"
     ]
    },
    {
     "data": {
      "text/plain": [
       "123"
      ]
     },
     "execution_count": 13,
     "metadata": {},
     "output_type": "execute_result"
    }
   ],
   "source": [
    "print(a)\n",
    "a"
   ]
  },
  {
   "cell_type": "code",
   "execution_count": 14,
   "id": "7a9abbe3",
   "metadata": {
    "execution": {
     "iopub.execute_input": "2022-11-18T01:12:45.661910Z",
     "iopub.status.busy": "2022-11-18T01:12:45.661201Z",
     "iopub.status.idle": "2022-11-18T01:12:45.667968Z",
     "shell.execute_reply": "2022-11-18T01:12:45.666883Z"
    },
    "papermill": {
     "duration": 0.017997,
     "end_time": "2022-11-18T01:12:45.670220",
     "exception": false,
     "start_time": "2022-11-18T01:12:45.652223",
     "status": "completed"
    },
    "tags": []
   },
   "outputs": [
    {
     "data": {
      "text/plain": [
       "'Cat'"
      ]
     },
     "execution_count": 14,
     "metadata": {},
     "output_type": "execute_result"
    }
   ],
   "source": [
    "c"
   ]
  },
  {
   "cell_type": "code",
   "execution_count": 15,
   "id": "a49df825",
   "metadata": {
    "execution": {
     "iopub.execute_input": "2022-11-18T01:12:45.690059Z",
     "iopub.status.busy": "2022-11-18T01:12:45.689627Z",
     "iopub.status.idle": "2022-11-18T01:12:45.694399Z",
     "shell.execute_reply": "2022-11-18T01:12:45.693509Z"
    },
    "papermill": {
     "duration": 0.019262,
     "end_time": "2022-11-18T01:12:45.697290",
     "exception": false,
     "start_time": "2022-11-18T01:12:45.678028",
     "status": "completed"
    },
    "tags": []
   },
   "outputs": [
    {
     "name": "stdout",
     "output_type": "stream",
     "text": [
      "Cat\n"
     ]
    }
   ],
   "source": [
    "print(c)"
   ]
  },
  {
   "cell_type": "code",
   "execution_count": 16,
   "id": "d9e0848c",
   "metadata": {
    "execution": {
     "iopub.execute_input": "2022-11-18T01:12:45.715541Z",
     "iopub.status.busy": "2022-11-18T01:12:45.715130Z",
     "iopub.status.idle": "2022-11-18T01:12:45.719874Z",
     "shell.execute_reply": "2022-11-18T01:12:45.718855Z"
    },
    "papermill": {
     "duration": 0.017033,
     "end_time": "2022-11-18T01:12:45.722964",
     "exception": false,
     "start_time": "2022-11-18T01:12:45.705931",
     "status": "completed"
    },
    "tags": []
   },
   "outputs": [
    {
     "name": "stdout",
     "output_type": "stream",
     "text": [
      "Let's print something\n"
     ]
    }
   ],
   "source": [
    "print(\"Let's print something\")"
   ]
  },
  {
   "cell_type": "code",
   "execution_count": null,
   "id": "6ad1e075",
   "metadata": {
    "papermill": {
     "duration": 0.007357,
     "end_time": "2022-11-18T01:12:45.739103",
     "exception": false,
     "start_time": "2022-11-18T01:12:45.731746",
     "status": "completed"
    },
    "tags": []
   },
   "outputs": [],
   "source": []
  }
 ],
 "metadata": {
  "kernelspec": {
   "display_name": "Python 3",
   "language": "python",
   "name": "python3"
  },
  "language_info": {
   "codemirror_mode": {
    "name": "ipython",
    "version": 3
   },
   "file_extension": ".py",
   "mimetype": "text/x-python",
   "name": "python",
   "nbconvert_exporter": "python",
   "pygments_lexer": "ipython3",
   "version": "3.7.12"
  },
  "papermill": {
   "default_parameters": {},
   "duration": 9.797579,
   "end_time": "2022-11-18T01:12:46.367932",
   "environment_variables": {},
   "exception": null,
   "input_path": "__notebook__.ipynb",
   "output_path": "__notebook__.ipynb",
   "parameters": {},
   "start_time": "2022-11-18T01:12:36.570353",
   "version": "2.3.4"
  }
 },
 "nbformat": 4,
 "nbformat_minor": 5
}
